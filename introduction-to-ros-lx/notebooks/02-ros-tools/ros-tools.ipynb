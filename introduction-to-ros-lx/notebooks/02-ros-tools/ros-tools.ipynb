{
 "cells": [
  {
   "attachments": {},
   "cell_type": "markdown",
   "metadata": {},
   "source": [
    "# Basic ROS Tools\n",
    "There are many tools that ROS offers to the roboticist. In this notebook you will get familiar with the most common and useful ones, allowing you to interact efficiently with ROS.\n",
    "\n",
    "## Environment setup\n",
    "For this learning experience we have set up a virtual environment with all the tools you are going to need. This means that you don't need to install ROS on your local machine to experiment with its tools.\n",
    "\n",
    "Whenever you have installed ROS on a new machine, the first step that you need to perform to have access to all of its tools is to *source* the `setup` script. The default script is located in the directory `/opt/ros/<distro>/setup.bash`, where `<distro>` is the ROS distribution you have installed. In the environment we set up for you this is `noetic`, but you can always check it by running:\n",
    "\n",
    "    env | grep ROS_DISTRO\n",
    "\n",
    "This will print the value of the `ROS_DISTRO` environmental variable.\n",
    "\n",
    "To source the script simply run in the terminal of your virtual environment \n",
    "\n",
    "    source /opt/ros/noetic/setup.bash\n",
    "\n",
    "**note:** This will make the ROS tools available only in the *current* terminal. In order to make them available in *every* terminal that is opened you have to add this command to the file `~/.bashrc`. You can do so by executing\n",
    "\n",
    "    nano ~/.bashrc\n",
    "\n",
    "This will open up the `nano` editor. You can move around with the arrow keys and exit it using <kbd>CTRL</kbd>+<kbd>x</kbd>. Remember to input <kbd>y</kbd> to save the file!\n",
    "\n",
    "You can write the command `source /opt/ros/noetic/setup.bash` just after the commented lines (the ones starting by `#`)."
   ]
  },
  {
   "attachments": {},
   "cell_type": "markdown",
   "metadata": {},
   "source": [
    "## Navigating the ROS packages\n",
    "\n",
    "ROS Packages are the software organization unit of ROS code. Each package can contain libraries, executables, scripts, or other artifacts. Each Package is a folder with two essential files:\n",
    "\n",
    "* `package.xml`, describing the package (i.e. its name, maintainer, description etc.)\n",
    "* `CMakeLists.txt`, this file contains the list of *dependecies* (i.e. the required packages) for your package.\n",
    "\n",
    "To create your package you have to create a directory with the appropriate structure, by running in the terminal:\n",
    "\n",
    "    mkdir -p ~/catkin_ws/src\n",
    "    cd ~/catkin_ws/\n",
    "    catkin_make\n",
    "\n",
    "The first two commands create a *workspace* directory and move inside it. The final one populates it with all the files needed to create the package.\n",
    "\n",
    "Now that we have created the structure of the package you can use the `tree -L 2` command to visualize its structure (the `-L 2` *flag* shows only the two uppermost layers of the directory).\n",
    "\n",
    "![](../../assets/_images/package_structure.png)\n",
    "\n",
    "In order to make ROS aware that you have this new package available, you need to *source* its setup file as well:\n",
    "\n",
    "    source devel/setup.bash\n",
    "\n",
    "This will *append* the path to this package to the list of ROS packages, which you can always visualize with\n",
    "\n",
    "    echo $ROS_PACKAGE_PATH\n",
    "\n",
    "Everything that is in the `~/catkin_ws/src` directory will be used by ROS to create your package, and it will use the other two directories `devel` and `build` to output its files."
   ]
  },
  {
   "attachments": {},
   "cell_type": "markdown",
   "metadata": {},
   "source": [
    "## Building your first ROS package\n",
    "You might have noticed that we are missing one of the essential files in our *workspace*: `package.xml`.\n",
    "\n",
    "This file *defines* our package, so why is it not there?\n",
    "\n",
    "What we have created is not actually a single package but rather a *workspace*: this means that it can hold several packages inside and they will all be built and installed by ROS with one single command.\n",
    "\n",
    "To create your first package you can run\n",
    "\n",
    "    catkin_create_pkg my_first_package rospy\n",
    "\n",
    "The `rospy` at the end is a *dependency* of `my_first_package` that will be used to write the *source code* of our package in `python`. You can add other dependencies as well, for example if you wanted to write the source code of your package in C++ you would need `roscpp`:\n",
    "\n",
    "    # DO NOT ACTUALLY RUN THIS\n",
    "    catkin_create_pkg my_first_package roscpp\n",
    "\n",
    "Then to build the package we move in the workspace, build the package with `catkin_make` and source again the setup script:\n",
    "\n",
    "```bash\n",
    "cd ~/catkin_ws\n",
    "catkin_make\n",
    "source ~/catkin_ws/devel/setup.bash\n",
    "```\n",
    "\n",
    "Now if you run again \n",
    "\n",
    "```bash\n",
    "tree -L 2\n",
    "```\n",
    "\n",
    "you will see that in the `src` directory there is a `package.xml` file."
   ]
  },
  {
   "attachments": {},
   "cell_type": "markdown",
   "metadata": {},
   "source": [
    "##  How to find and edit ROS packages\n",
    "\n",
    "Now that we have created and built our first package we can use ROS tools to identify its location in our machine and move into that directory. This will allow you to *edit* the source code of the package, to change its behavior.\n",
    "\n",
    "To see the *content* of a package you can use `rosls` and to move into that folder you can use `roscd`:\n",
    "\n",
    "    rosls my_first_package\n",
    "    roscd my_first_package\n",
    "\n",
    "These are convenience utilities that avoid you having to remember the path to each one of your ROS packages."
   ]
  }
 ],
 "metadata": {
  "kernelspec": {
   "display_name": "Python 3.8.10 64-bit",
   "language": "python",
   "name": "python3"
  },
  "language_info": {
   "name": "python",
   "version": "3.8.10"
  },
  "orig_nbformat": 4,
  "vscode": {
   "interpreter": {
    "hash": "916dbcbb3f70747c44a77c7bcd40155683ae19c65e1c03b4aa3499c5328201f1"
   }
  }
 },
 "nbformat": 4,
 "nbformat_minor": 2
}
