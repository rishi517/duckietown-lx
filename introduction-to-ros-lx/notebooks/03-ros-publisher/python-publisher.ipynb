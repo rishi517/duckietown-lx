{
 "cells": [
  {
   "attachments": {},
   "cell_type": "markdown",
   "metadata": {},
   "source": [
    "## Creating your first publisher node\n",
    "\n",
    "Now you can create a file where you're going to write your code for the first node you are going to run:\n",
    "\n",
    "```bash\n",
    "mkdir scripts\n",
    "cd scripts\n",
    "nano my_publisher.py\n",
    "```\n",
    "\n",
    "In this editor you will find  the code to create a message publisher in the directory `packages/my_publisher.py` :\n",
    "\n",
    "* Fill in the `TODO`s and then copy and paste it in the `nano` editor you have opened in your virtual environment.\n",
    "\n",
    "You can do so by pasting it in the clipboard on the left side of your browser and then in the `nano` editor (*do not use* <kbd>CTRL</kbd>+<kbd>C</kbd>, you can paste by right-clicking and selecting `Paste` or by using <kbd>CTRL</kbd>+<kbd>U</kbd>).\n",
    "\n",
    "![VNC Clipboard](../../assets/_images/vnc-pasting.png)"
   ]
  },
  {
   "attachments": {},
   "cell_type": "markdown",
   "metadata": {},
   "source": [
    "## Installing and running the node\n",
    "\n",
    "Before being able to run the node, we need to build it using `catkin_make`:\n",
    "\n",
    "1.  Go inside your package\n",
    "    \n",
    "        roscd my_first_package\n",
    "\n",
    "2. Make your Python script executable\n",
    "\n",
    "        chmod +x scripts/my_publisher.py\n",
    "\n",
    "3. Edit the file `CMakeLists.txt` by adding **at the end** of the file:\n",
    "\n",
    "        catkin_install_python(PROGRAMS scripts/talker.py\n",
    "                DESTINATION ${CATKIN_PACKAGE_BIN_DESTINATION}\n",
    "        )\n",
    "\n",
    "4. Go back to the catkin workspace and build the package:\n",
    "\n",
    "        cd ~/catkin_ws\n",
    "        catkin_make\n",
    "\n",
    "Congratulations, you just created your first ROS node! Now to run it you simply have to execute\n",
    "\n",
    "```bash\n",
    "rosrun my_first_package my_publisher.py\n",
    "```\n",
    "You should see the following output:\n",
    "\n",
    "![my_first_package running](../../assets/_images/my_first_package-running.png)"
   ]
  },
  {
   "attachments": {},
   "cell_type": "markdown",
   "metadata": {},
   "source": [
    "## Inspecting its messages\n",
    "\n",
    "What you're looking is a log message being printed by the line\n",
    "\n",
    "```python\n",
    "rospy.loginfo(MESSAGE_CONTENT)\n",
    "```\n",
    "\n",
    "of your Python script. In order to actually see the messages open up another terminal (**without** closing the one running your package).\n",
    "\n",
    "You can list the topics available by running\n",
    "\n",
    "    rostopic list\n",
    "\n",
    "in this second terminal. You will see that there are three topics:\n",
    "\n",
    "* `rosout` and `rosout_agg` which are just the default topics of `rosmaster`\n",
    "* the third topic will be the one running on your node. If you have not changed its name, it will be called `chatter`.\n",
    "\n",
    "You can inspect the node by running \n",
    "\n",
    "    rostopic info chatter\n",
    "\n",
    "It will show the Type of messages being published, which nodes are publishing on this topic and which have subscribed.\n",
    "\n",
    "**Tip:** try running `rostopic type chatter`. It will show the type of message being used on the channel. You can *pipe* this into `rosmsg show` to see the fields of the message by running `rostopic type chatter | rosmsg show`.\n",
    "\n",
    "For our topic there is only a field of type `string` named `data`.\n",
    "\n",
    "You can also see the content of the messages in *realtime* with\n",
    "\n",
    "    rostopic echo chatter\n",
    "\n",
    "Follow on the next notebook to see how to listen to this topic from within a python script, and using this to trigger an action.\n"
   ]
  },
  {
   "attachments": {},
   "cell_type": "markdown",
   "metadata": {},
   "source": [
    "## Creating a ROS Python subscriber\n",
    "\n",
    "In this activity you will create your own subscriber node that will listen to the publisher node you have created in the previous activity and will trigger an action based on the content of the message it receives.\n",
    "\n",
    "1. Edit the file `packages/my_subscriber.py`, filling in the `TODO`s\n",
    "1. Copy it in the right folder in your virtual environment (**hint:** it can be the same one where the `my_publisher.py` script is located)\n",
    "1. Modify the file `CMakeLists.txt` to add to the function `catkin_install_python` the new script (**hint:** you can separate location with just a space)\n",
    "1. Rerun `catkin_make` from the correct folder to install the package\n",
    "1. `source` again the `setup.bash` script in `~/catkin_ws/devel/setup.bash`\n",
    "1. Use `rosrun` to run the script (**hint:** remember to make your script executable)"
   ]
  },
  {
   "attachments": {},
   "cell_type": "markdown",
   "metadata": {},
   "source": [
    "## The way forward\n",
    "Woah, that was a lot to do, congrats for completing this learning experience and learning the basics on how to use ROS!\n",
    "\n",
    "If you felt a bit overwhelmed by all these steps, do not despair, you are not alone!\n",
    "\n",
    "Duckiedevelopers also found themselves bored by these repetitive procedures to create new nodes and to solve this they have developed a better way to create nodes, by using something called *containers* to *isolate* the node and get them up and running in a much shorter time. You can learn this in our `Advanced ROS programming` learning experience!\n",
    "\n",
    "Upwards and onwards!"
   ]
  }
 ],
 "metadata": {
  "kernelspec": {
   "display_name": "Python 3.8.10 64-bit",
   "language": "python",
   "name": "python3"
  },
  "language_info": {
   "name": "python",
   "version": "3.8.10"
  },
  "orig_nbformat": 4,
  "vscode": {
   "interpreter": {
    "hash": "916dbcbb3f70747c44a77c7bcd40155683ae19c65e1c03b4aa3499c5328201f1"
   }
  }
 },
 "nbformat": 4,
 "nbformat_minor": 2
}
